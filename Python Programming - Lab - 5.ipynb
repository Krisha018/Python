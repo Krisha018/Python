{
 "cells": [
  {
   "cell_type": "markdown",
   "metadata": {},
   "source": [
    "\n",
    "<a href='https://www.darshan.ac.in/'> <img src='https://www.darshan.ac.in/Content/media/DU_Logo.svg' width=\"250\" height=\"300\"/></a>\n",
    "<pre>\n",
    "<center><b><h1>Python Programming - 2101CS405</b></center>\n",
    "<center><b><h1>Lab - 5</b></center>    \n",
    "<pre>"
   ]
  },
  {
   "cell_type": "markdown",
   "metadata": {},
   "source": [
    "# list"
   ]
  },
  {
   "cell_type": "markdown",
   "metadata": {},
   "source": [
    "### 01) WAP to find sum of all the elements in List."
   ]
  },
  {
   "cell_type": "code",
   "execution_count": 2,
   "metadata": {},
   "outputs": [
    {
     "name": "stdout",
     "output_type": "stream",
     "text": [
      "Sum of all elements is : 21\n"
     ]
    }
   ],
   "source": [
    "li,sum = [1,2,3,4,5,6],0\n",
    "for i in li:\n",
    "    sum+=i\n",
    "print(f\"Sum of all elements is : {sum}\")"
   ]
  },
  {
   "cell_type": "markdown",
   "metadata": {},
   "source": [
    "### 02) WAP to find largest element in a List."
   ]
  },
  {
   "cell_type": "code",
   "execution_count": 3,
   "metadata": {},
   "outputs": [
    {
     "name": "stdout",
     "output_type": "stream",
     "text": [
      "Maximum element is 6\n"
     ]
    }
   ],
   "source": [
    "li = [1,2,3,4,5,6]\n",
    "print(f\"Maximum element is {max(li)}\")"
   ]
  },
  {
   "cell_type": "markdown",
   "metadata": {},
   "source": [
    "### 03) WAP to split the List into two and append the first part to the end."
   ]
  },
  {
   "cell_type": "code",
   "execution_count": 5,
   "metadata": {},
   "outputs": [
    {
     "data": {
      "text/plain": [
       "[4, 5, 6, 1, 2, 3]"
      ]
     },
     "execution_count": 5,
     "metadata": {},
     "output_type": "execute_result"
    }
   ],
   "source": [
    "list = [1,2,3,4,5,6]\n",
    "l1 = list[:int(len(list)/2)]\n",
    "l2 = list[int(len(list)/2):]\n",
    "for i in l1:\n",
    "    l2.append(i)\n",
    "l2"
   ]
  },
  {
   "cell_type": "markdown",
   "metadata": {},
   "source": [
    "### 04) WAP to interchange first and last elements in list entered by a user."
   ]
  },
  {
   "cell_type": "code",
   "execution_count": 6,
   "metadata": {},
   "outputs": [
    {
     "name": "stdout",
     "output_type": "stream",
     "text": [
      "Enter number of element of list : 4\n",
      "Enter element : 1\n",
      "Enter element : 2\n",
      "Enter element : 3\n",
      "Enter element : 4\n"
     ]
    },
    {
     "data": {
      "text/plain": [
       "[4, 2, 3, 1]"
      ]
     },
     "execution_count": 6,
     "metadata": {},
     "output_type": "execute_result"
    }
   ],
   "source": [
    "n = int(input(\"Enter number of element of list : \"))\n",
    "li = []\n",
    "for i in range(n):\n",
    "    x = int(input(\"Enter element : \"))\n",
    "    li.append(x)\n",
    "temp=li[len(li)-1]\n",
    "li[len(li)-1]=li[0]\n",
    "li[0]=temp\n",
    "li"
   ]
  },
  {
   "cell_type": "markdown",
   "metadata": {},
   "source": [
    "### 05) WAP to interchange the elements on two positions entered by a user."
   ]
  },
  {
   "cell_type": "code",
   "execution_count": 7,
   "metadata": {},
   "outputs": [
    {
     "name": "stdout",
     "output_type": "stream",
     "text": [
      "Enter number of element of list : 4\n",
      "Enter element : 1\n",
      "Enter element : 2\n",
      "Enter element : 3\n",
      "Enter element : 4\n",
      "Enter 1st position : 2\n",
      "Enter 2nd position : 3\n"
     ]
    },
    {
     "data": {
      "text/plain": [
       "[1, 2, 4, 3]"
      ]
     },
     "execution_count": 7,
     "metadata": {},
     "output_type": "execute_result"
    }
   ],
   "source": [
    "n = int(input(\"Enter number of element of list : \"))\n",
    "li = []\n",
    "for i in range(n):\n",
    "    x = int(input(\"Enter element : \"))\n",
    "    li.append(x)\n",
    "p1 = int(input(\"Enter 1st position : \"))\n",
    "p2 = int(input(\"Enter 2nd position : \"))\n",
    "temp=li[p1]\n",
    "li[p1]=li[p2]\n",
    "li[p2]=temp\n",
    "li\n"
   ]
  },
  {
   "cell_type": "markdown",
   "metadata": {},
   "source": [
    "### 06) WAP to reverses the list entered by user."
   ]
  },
  {
   "cell_type": "code",
   "execution_count": 8,
   "metadata": {},
   "outputs": [
    {
     "name": "stdout",
     "output_type": "stream",
     "text": [
      "Enter number of element of list : 6\n",
      "Enter element : 1\n",
      "Enter element : 2\n",
      "Enter element : 3\n",
      "Enter element : 4\n",
      "Enter element : 5\n",
      "Enter element : 6\n",
      "[6, 5, 4, 3, 2, 1]\n"
     ]
    }
   ],
   "source": [
    "n = int(input(\"Enter number of element of list : \"))\n",
    "li = []\n",
    "for i in range(n):\n",
    "    x = int(input(\"Enter element : \"))\n",
    "    li.append(x)\n",
    "li.reverse()\n",
    "print(li)"
   ]
  },
  {
   "cell_type": "markdown",
   "metadata": {},
   "source": [
    "### 07) Python program to remove multiple elements from a list using list comprehension"
   ]
  },
  {
   "cell_type": "code",
   "execution_count": 9,
   "metadata": {},
   "outputs": [
    {
     "data": {
      "text/plain": [
       "[2, 4]"
      ]
     },
     "execution_count": 9,
     "metadata": {},
     "output_type": "execute_result"
    }
   ],
   "source": [
    "li = [1,2,3,4,5]\n",
    "newlist = [i for i in li if i%2==0]\n",
    "newlist"
   ]
  },
  {
   "cell_type": "markdown",
   "metadata": {},
   "source": [
    "### 08) Create a list from the specified start to end index of another list."
   ]
  },
  {
   "cell_type": "code",
   "execution_count": 11,
   "metadata": {},
   "outputs": [
    {
     "name": "stdout",
     "output_type": "stream",
     "text": [
      "Enter number of element of list : 5\n",
      "Enter element : 1\n",
      "Enter element : 3\n",
      "Enter element : 5\n",
      "Enter element : 7\n",
      "Enter element : 9\n",
      "Enter starting index : 2\n",
      "Enter ending index : 4\n"
     ]
    },
    {
     "data": {
      "text/plain": [
       "[5, 7, 9]"
      ]
     },
     "execution_count": 11,
     "metadata": {},
     "output_type": "execute_result"
    }
   ],
   "source": [
    "n = int(input(\"Enter number of element of list : \"))\n",
    "li = []\n",
    "for i in range(n):\n",
    "    x = int(input(\"Enter element : \"))\n",
    "    li.append(x)\n",
    "start = int(input(\"Enter starting index : \"))\n",
    "end = int(input(\"Enter ending index : \"))\n",
    "\n",
    "newlist = li[start:end+1]\n",
    "newlist"
   ]
  },
  {
   "cell_type": "markdown",
   "metadata": {},
   "source": [
    "### 09) Input comma separated elements, convert into list and print."
   ]
  },
  {
   "cell_type": "code",
   "execution_count": 12,
   "metadata": {},
   "outputs": [
    {
     "name": "stdout",
     "output_type": "stream",
     "text": [
      "Enter comma separated elements : 1324,Darshan,3534\n"
     ]
    },
    {
     "data": {
      "text/plain": [
       "['1324', 'Darshan', '3534']"
      ]
     },
     "execution_count": 12,
     "metadata": {},
     "output_type": "execute_result"
    }
   ],
   "source": [
    "str = input(\"Enter comma separated elements : \")\n",
    "li = str.split(\",\")\n",
    "li"
   ]
  },
  {
   "cell_type": "markdown",
   "metadata": {},
   "source": [
    "### 01) WAP to count Even and Odd numbers in a List."
   ]
  },
  {
   "cell_type": "code",
   "execution_count": 3,
   "metadata": {},
   "outputs": [
    {
     "name": "stdout",
     "output_type": "stream",
     "text": [
      "Enter number of element of list :6\n",
      "Enter number :1\n",
      "Enter number :12\n",
      "Enter number :11\n",
      "Enter number :34\n",
      "Enter number :55\n",
      "Enter number :77\n",
      "Count of Odd number is 4\n",
      "Count of Even number is 2\n"
     ]
    }
   ],
   "source": [
    "n=int(input('Enter number of element of list :'))\n",
    "li,odd,even=[],0,0\n",
    "for i in range(n):\n",
    "    x=int(input(\"Enter number :\"))\n",
    "    li.append(x)\n",
    "for i in li:\n",
    "    if i%2==0:\n",
    "        even+=1\n",
    "    else:\n",
    "        odd+=1\n",
    "print(f\"Count of Odd number is {odd}\")\n",
    "print(f\"Count of Even number is {even}\")\n",
    "    \n",
    "    "
   ]
  },
  {
   "cell_type": "markdown",
   "metadata": {},
   "source": [
    "### 02) Python program to find N largest and smallest elements from the list"
   ]
  },
  {
   "cell_type": "code",
   "execution_count": 13,
   "metadata": {},
   "outputs": [
    {
     "name": "stdout",
     "output_type": "stream",
     "text": [
      "Enter number of element of list : 5\n",
      "Enter element : 1\n",
      "Enter element : 23\n",
      "Enter element : 56\n",
      "Enter element : 33\n",
      "Enter element : 11\n",
      "Enter n : 2\n",
      "Largest numbers :  56,33,\n",
      "Smallest numbers :  1,11,"
     ]
    }
   ],
   "source": [
    "n = int(input(\"Enter number of element of list : \"))\n",
    "li,oddcounter,evencounter = [],0,0\n",
    "for i in range(n):\n",
    "    x = int(input(\"Enter element : \"))\n",
    "    li.append(x)\n",
    "li.sort()\n",
    "n = int(input(\"Enter n : \"))\n",
    "print(\"Largest numbers : \",end=\" \")\n",
    "for i in range(n):\n",
    "    print(li[len(li)-i-1],end=\",\")\n",
    "print(\"\\nSmallest numbers : \",end=\" \")\n",
    "for i in range(n):\n",
    "    print(li[i],end=\",\")"
   ]
  },
  {
   "cell_type": "markdown",
   "metadata": {},
   "source": [
    "### 03) WAP to print duplicates from a list of integers"
   ]
  },
  {
   "cell_type": "code",
   "execution_count": 14,
   "metadata": {},
   "outputs": [
    {
     "name": "stdout",
     "output_type": "stream",
     "text": [
      "Enter number of element of list : 5\n",
      "Enter element : 1\n",
      "Enter element : 3\n",
      "Enter element : 2\n",
      "Enter element : 3\n",
      "Enter element : 1\n"
     ]
    },
    {
     "data": {
      "text/plain": [
       "[{1, 3}]"
      ]
     },
     "execution_count": 14,
     "metadata": {},
     "output_type": "execute_result"
    }
   ],
   "source": [
    "n = int(input(\"Enter number of element of list : \"))\n",
    "li = []\n",
    "for i in range(n):\n",
    "    x = int(input(\"Enter element : \"))\n",
    "    li.append(x)\n",
    " \n",
    "newlist = [set(i for i in li if li.count(i)>1)]\n",
    "newlist"
   ]
  },
  {
   "cell_type": "code",
   "execution_count": null,
   "metadata": {},
   "outputs": [],
   "source": []
  }
 ],
 "metadata": {
  "kernelspec": {
   "display_name": "Python 3 (ipykernel)",
   "language": "python",
   "name": "python3"
  },
  "language_info": {
   "codemirror_mode": {
    "name": "ipython",
    "version": 3
   },
   "file_extension": ".py",
   "mimetype": "text/x-python",
   "name": "python",
   "nbconvert_exporter": "python",
   "pygments_lexer": "ipython3",
   "version": "3.9.13"
  }
 },
 "nbformat": 4,
 "nbformat_minor": 4
}
