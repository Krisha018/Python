{
 "cells": [
  {
   "cell_type": "markdown",
   "metadata": {},
   "source": [
    "<a href='https://www.darshan.ac.in/'> <img src='https://www.darshan.ac.in/Content/media/DU_Logo.svg' width=\"250\" height=\"300\"/></a>\n",
    "<pre>\n",
    "<center><b><h1>Python Programming - 2101CS405</b></center>\n",
    "<center><b><h1>Lab - 6</b></center>    \n",
    "<pre>"
   ]
  },
  {
   "cell_type": "markdown",
   "metadata": {},
   "source": [
    "# Tuples, dictionary, set"
   ]
  },
  {
   "cell_type": "markdown",
   "metadata": {},
   "source": [
    "# A"
   ]
  },
  {
   "cell_type": "markdown",
   "metadata": {},
   "source": [
    "### 01) WAP to sort python dictionary by key or value."
   ]
  },
  {
   "cell_type": "code",
   "execution_count": 17,
   "metadata": {},
   "outputs": [
    {
     "name": "stdout",
     "output_type": "stream",
     "text": [
      "('colllage', 'darshan')\n",
      "('city', 'Gondal')\n",
      "('Branch', 'cse')\n"
     ]
    },
    {
     "data": {
      "text/plain": [
       "{'city': 'Gondal', 'Branch': 'cse', 'colllage': 'darshan'}"
      ]
     },
     "execution_count": 17,
     "metadata": {},
     "output_type": "execute_result"
    }
   ],
   "source": [
    "Dict1 = {'colllage':'darshan','city':'Gondal','Branch':'cse'}\n",
    "for i in Dict1.items():\n",
    "    print(i)\n",
    "sorted_dic=dict(sorted(Dict1.items(),key=lambda x:x[1]))\n",
    "sorted_dic\n",
    "\n",
    "\n",
    "\n"
   ]
  },
  {
   "cell_type": "markdown",
   "metadata": {},
   "source": [
    "### 02) WAP to merge two dictionaries given by user."
   ]
  },
  {
   "cell_type": "code",
   "execution_count": 9,
   "metadata": {},
   "outputs": [
    {
     "name": "stdout",
     "output_type": "stream",
     "text": [
      "{1: 'Darshan', 2: 'University', 3: 'Computer', 4: 'Engineering'}\n"
     ]
    }
   ],
   "source": [
    "dict_1={1:'Darshan',2:'University'}\n",
    "dict_2={3:'Computer',4:'Engineering'}\n",
    "print(dict_1|dict_2)\n",
    "\n"
   ]
  },
  {
   "cell_type": "markdown",
   "metadata": {},
   "source": [
    "### 03) WAP to find tuples that have all elements divisible by K from a list of tuples."
   ]
  },
  {
   "cell_type": "code",
   "execution_count": 4,
   "metadata": {},
   "outputs": [
    {
     "name": "stdout",
     "output_type": "stream",
     "text": [
      "(2, 4, 6)\n"
     ]
    }
   ],
   "source": [
    "li=[(5,6,7),(1,2,3),(2,4,6)]\n",
    "\n",
    "for (a,b,c) in li:\n",
    "  if (a%2==0 and b%2==0 and c%2==0):\n",
    "    print((a,b,c))"
   ]
  },
  {
   "cell_type": "markdown",
   "metadata": {},
   "source": [
    "### 04) WAP to find Tuples with positive elements in List of tuples."
   ]
  },
  {
   "cell_type": "code",
   "execution_count": 5,
   "metadata": {},
   "outputs": [
    {
     "name": "stdout",
     "output_type": "stream",
     "text": [
      "(5, 6, 7)\n",
      "(1, 2, 3)\n",
      "(2, 4, 6)\n"
     ]
    }
   ],
   "source": [
    "li=[(5,6,7),(1,2,3),(2,4,6)]\n",
    "\n",
    "for a,b,c in li:\n",
    "  if a>=0 and b>=0 and c>=0:\n",
    "    print((a,b,c))"
   ]
  },
  {
   "cell_type": "markdown",
   "metadata": {},
   "source": [
    "### 05) WAP which perform union of two sets."
   ]
  },
  {
   "cell_type": "code",
   "execution_count": 6,
   "metadata": {},
   "outputs": [
    {
     "name": "stdout",
     "output_type": "stream",
     "text": [
      "Enter no of elements of set 1 : 3\n",
      "Enter element : 1\n",
      "Enter element : 2\n",
      "Enter element : 3\n",
      "Enter no of elements of set 2 : 3\n",
      "Enter element : 4\n",
      "Enter element : 5\n",
      "Enter element : 6\n",
      "{'6', '4', '1', '5', '3', '2'}\n"
     ]
    }
   ],
   "source": [
    "s1=set()\n",
    "s2=set()\n",
    "n = int(input(\"Enter no of elements of set 1 : \"))\n",
    "for i in range(n):\n",
    "  s1.add(input(\"Enter element : \"))\n",
    "n = int(input(\"Enter no of elements of set 2 : \"))\n",
    "for i in range(n):\n",
    "  s2.add(input(\"Enter element : \"))  \n",
    "print(s1.union(s2)) "
   ]
  },
  {
   "cell_type": "markdown",
   "metadata": {},
   "source": [
    "# B"
   ]
  },
  {
   "cell_type": "markdown",
   "metadata": {},
   "source": [
    "### 01) WAP to convert binary tuple into integer."
   ]
  },
  {
   "cell_type": "code",
   "execution_count": 8,
   "metadata": {},
   "outputs": [
    {
     "data": {
      "text/plain": [
       "7"
      ]
     },
     "execution_count": 8,
     "metadata": {},
     "output_type": "execute_result"
    }
   ],
   "source": [
    "tup=(\"1\",\"1\",\"1\")\n",
    "str = \"\".join(tup)\n",
    "n = int(str,2)\n",
    "n"
   ]
  },
  {
   "cell_type": "markdown",
   "metadata": {},
   "source": [
    "### 02) WAP to count frequency in list by dictionary."
   ]
  },
  {
   "cell_type": "code",
   "execution_count": 9,
   "metadata": {},
   "outputs": [
    {
     "name": "stdout",
     "output_type": "stream",
     "text": [
      "Enter no of elements : 5\n",
      "Enter element : 1\n",
      "Enter element : 2\n",
      "Enter element : 3\n",
      "Enter element : 2\n",
      "Enter element : 1\n",
      "{'1': 2, '2': 2, '3': 1}\n"
     ]
    }
   ],
   "source": [
    "n = int(input(\"Enter no of elements : \"))\n",
    "li=[]\n",
    "for i in range(n):\n",
    "  li.append(input(\"Enter element : \"))\n",
    "  \n",
    "dict1 = {}\n",
    "for i in li:\n",
    "  if i in dict1:\n",
    "    dict1[i]+=1\n",
    "  else:\n",
    "    dict1[i]=1  \n",
    "\n",
    "print(dict1)  "
   ]
  },
  {
   "cell_type": "markdown",
   "metadata": {},
   "source": [
    "### 03) WAP to remove all the duplicate words from the list using dictionary."
   ]
  },
  {
   "cell_type": "code",
   "execution_count": 12,
   "metadata": {},
   "outputs": [
    {
     "name": "stdout",
     "output_type": "stream",
     "text": [
      "Enter Element For List In One Line : Krisha\n",
      "['K', 'r', 'i', 's', 'h', 'a']\n"
     ]
    }
   ],
   "source": [
    "element = input(\"Enter Element For List In One Line : \")\n",
    "listOfElement = list(element)\n",
    "dict = list(dict.fromkeys(listOfElement))\n",
    "print(dict)"
   ]
  },
  {
   "cell_type": "code",
   "execution_count": null,
   "metadata": {},
   "outputs": [],
   "source": []
  }
 ],
 "metadata": {
  "kernelspec": {
   "display_name": "Python 3 (ipykernel)",
   "language": "python",
   "name": "python3"
  },
  "language_info": {
   "codemirror_mode": {
    "name": "ipython",
    "version": 3
   },
   "file_extension": ".py",
   "mimetype": "text/x-python",
   "name": "python",
   "nbconvert_exporter": "python",
   "pygments_lexer": "ipython3",
   "version": "3.9.13"
  }
 },
 "nbformat": 4,
 "nbformat_minor": 4
}
